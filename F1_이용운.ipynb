{
  "nbformat": 4,
  "nbformat_minor": 0,
  "metadata": {
    "colab": {
      "provenance": []
    },
    "kernelspec": {
      "name": "python3",
      "display_name": "Python 3"
    },
    "language_info": {
      "name": "python"
    }
  },
  "cells": [
    {
      "cell_type": "code",
      "source": [
        "from tensorflow import keras\n",
        "from sklearn.model_selection import train_test_split\n",
        "\n",
        "# 데이터셋 로드 및 전처리\n",
        "(train_input, train_target), (test_input, test_target) = keras.datasets.fashion_mnist.load_data()\n",
        "train_scaled = train_input.reshape(-1, 28, 28, 1) / 255.0\n",
        "train_scaled, val_scaled, train_target, val_target = train_test_split(train_scaled, train_target, test_size=0.2, random_state=42)\n",
        "\n",
        "# 모델 생성\n",
        "model = keras.Sequential([\n",
        "    keras.layers.Conv2D(32, kernel_size=3, activation='relu', padding='same', input_shape=(28, 28, 1)),\n",
        "    keras.layers.MaxPooling2D(2),\n",
        "    keras.layers.Flatten(),\n",
        "    keras.layers.Dense(128, activation='relu'),  # 추가된 은닉층\n",
        "    keras.layers.Dense(100, activation='relu'),\n",
        "    keras.layers.Dropout(0.4),\n",
        "    keras.layers.Dense(10, activation='softmax')\n",
        "])\n",
        "\n",
        "# 모델 요약 출력\n",
        "model.summary()\n",
        "\n",
        "# 모델 구조 시각화\n",
        "keras.utils.plot_model(model, show_shapes=True, to_file='cnn-architecture.png', dpi=300)\n",
        "\n",
        "# 모델 컴파일 및 학습\n",
        "model.compile(optimizer='adam', loss='sparse_categorical_crossentropy', metrics=['accuracy'])\n",
        "history = model.fit(train_scaled, train_target, epochs=20, validation_data=(val_scaled, val_target))\n"
      ],
      "metadata": {
        "colab": {
          "base_uri": "https://localhost:8080/"
        },
        "id": "ICqRO6fIM3Jk",
        "outputId": "d356f8bf-f84f-4e4d-b771-d1651de5ea1e"
      },
      "execution_count": 3,
      "outputs": [
        {
          "output_type": "stream",
          "name": "stdout",
          "text": [
            "Model: \"sequential_1\"\n",
            "_________________________________________________________________\n",
            " Layer (type)                Output Shape              Param #   \n",
            "=================================================================\n",
            " conv2d_1 (Conv2D)           (None, 28, 28, 32)        320       \n",
            "                                                                 \n",
            " max_pooling2d_1 (MaxPoolin  (None, 14, 14, 32)        0         \n",
            " g2D)                                                            \n",
            "                                                                 \n",
            " flatten_1 (Flatten)         (None, 6272)              0         \n",
            "                                                                 \n",
            " dense_3 (Dense)             (None, 128)               802944    \n",
            "                                                                 \n",
            " dense_4 (Dense)             (None, 100)               12900     \n",
            "                                                                 \n",
            " dropout_1 (Dropout)         (None, 100)               0         \n",
            "                                                                 \n",
            " dense_5 (Dense)             (None, 10)                1010      \n",
            "                                                                 \n",
            "=================================================================\n",
            "Total params: 817174 (3.12 MB)\n",
            "Trainable params: 817174 (3.12 MB)\n",
            "Non-trainable params: 0 (0.00 Byte)\n",
            "_________________________________________________________________\n",
            "Epoch 1/20\n",
            "1500/1500 [==============================] - 46s 30ms/step - loss: 0.4634 - accuracy: 0.8377 - val_loss: 0.3153 - val_accuracy: 0.8822\n",
            "Epoch 2/20\n",
            "1500/1500 [==============================] - 42s 28ms/step - loss: 0.3018 - accuracy: 0.8927 - val_loss: 0.2863 - val_accuracy: 0.8967\n",
            "Epoch 3/20\n",
            "1500/1500 [==============================] - 40s 26ms/step - loss: 0.2557 - accuracy: 0.9085 - val_loss: 0.2609 - val_accuracy: 0.9046\n",
            "Epoch 4/20\n",
            "1500/1500 [==============================] - 44s 29ms/step - loss: 0.2235 - accuracy: 0.9185 - val_loss: 0.2462 - val_accuracy: 0.9122\n",
            "Epoch 5/20\n",
            "1500/1500 [==============================] - 40s 27ms/step - loss: 0.1968 - accuracy: 0.9269 - val_loss: 0.2589 - val_accuracy: 0.9086\n",
            "Epoch 6/20\n",
            "1500/1500 [==============================] - 41s 27ms/step - loss: 0.1745 - accuracy: 0.9351 - val_loss: 0.2633 - val_accuracy: 0.9118\n",
            "Epoch 7/20\n",
            "1500/1500 [==============================] - 38s 25ms/step - loss: 0.1542 - accuracy: 0.9427 - val_loss: 0.2651 - val_accuracy: 0.9133\n",
            "Epoch 8/20\n",
            "1500/1500 [==============================] - 44s 29ms/step - loss: 0.1346 - accuracy: 0.9497 - val_loss: 0.2612 - val_accuracy: 0.9168\n",
            "Epoch 9/20\n",
            "1500/1500 [==============================] - 39s 26ms/step - loss: 0.1146 - accuracy: 0.9572 - val_loss: 0.2981 - val_accuracy: 0.9146\n",
            "Epoch 10/20\n",
            "1500/1500 [==============================] - 40s 27ms/step - loss: 0.1007 - accuracy: 0.9627 - val_loss: 0.2853 - val_accuracy: 0.9183\n",
            "Epoch 11/20\n",
            "1500/1500 [==============================] - 40s 27ms/step - loss: 0.0884 - accuracy: 0.9669 - val_loss: 0.3434 - val_accuracy: 0.9043\n",
            "Epoch 12/20\n",
            "1500/1500 [==============================] - 44s 29ms/step - loss: 0.0783 - accuracy: 0.9708 - val_loss: 0.3539 - val_accuracy: 0.9123\n",
            "Epoch 13/20\n",
            "1500/1500 [==============================] - 42s 28ms/step - loss: 0.0677 - accuracy: 0.9750 - val_loss: 0.3814 - val_accuracy: 0.9126\n",
            "Epoch 14/20\n",
            "1500/1500 [==============================] - 42s 28ms/step - loss: 0.0630 - accuracy: 0.9765 - val_loss: 0.3902 - val_accuracy: 0.9158\n",
            "Epoch 15/20\n",
            "1500/1500 [==============================] - 42s 28ms/step - loss: 0.0571 - accuracy: 0.9787 - val_loss: 0.4139 - val_accuracy: 0.9153\n",
            "Epoch 16/20\n",
            "1500/1500 [==============================] - 44s 29ms/step - loss: 0.0493 - accuracy: 0.9825 - val_loss: 0.4239 - val_accuracy: 0.9126\n",
            "Epoch 17/20\n",
            "1500/1500 [==============================] - 43s 29ms/step - loss: 0.0446 - accuracy: 0.9845 - val_loss: 0.4310 - val_accuracy: 0.9158\n",
            "Epoch 18/20\n",
            "1500/1500 [==============================] - 41s 27ms/step - loss: 0.0465 - accuracy: 0.9832 - val_loss: 0.4471 - val_accuracy: 0.9150\n",
            "Epoch 19/20\n",
            "1500/1500 [==============================] - 41s 27ms/step - loss: 0.0385 - accuracy: 0.9862 - val_loss: 0.4858 - val_accuracy: 0.9155\n",
            "Epoch 20/20\n",
            "1500/1500 [==============================] - 45s 30ms/step - loss: 0.0377 - accuracy: 0.9868 - val_loss: 0.4969 - val_accuracy: 0.9128\n"
          ]
        }
      ]
    },
    {
      "cell_type": "code",
      "source": [
        "from tensorflow import keras\n",
        "from sklearn.model_selection import train_test_split\n",
        "import numpy as np\n",
        "import matplotlib.pyplot as plt\n",
        "\n",
        "# 데이터셋 로드 및 전처리\n",
        "(train_input, train_target), (test_input, test_target) = keras.datasets.fashion_mnist.load_data()\n",
        "train_scaled = train_input.reshape(-1, 28, 28, 1) / 255.0\n",
        "train_scaled, val_scaled, train_target, val_target = train_test_split(train_scaled, train_target, test_size=0.2, random_state=42)\n",
        "\n",
        "# 모델 생성 (변경 코드)\n",
        "model = keras.Sequential([\n",
        "    keras.layers.Conv2D(32, kernel_size=3, activation='relu', padding='same', input_shape=(28, 28, 1)),\n",
        "    keras.layers.MaxPooling2D(2),\n",
        "    keras.layers.Flatten(),\n",
        "    keras.layers.Dense(128, activation='relu'),  # 추가된 은닉층\n",
        "    keras.layers.Dense(100, activation='relu'),\n",
        "    keras.layers.Dropout(0.4),\n",
        "    keras.layers.Dense(10, activation='softmax')\n",
        "])\n",
        "\n",
        "# 모델 컴파일 및 학습\n",
        "model.compile(optimizer='adam', loss='sparse_categorical_crossentropy', metrics=['accuracy'])\n",
        "history = model.fit(train_scaled, train_target, epochs=20, validation_data=(val_scaled, val_target))\n",
        "\n",
        "# 모델 평가 및 예측\n",
        "model.evaluate(val_scaled, val_target)\n",
        "\n",
        "# 스니커즈 클래스의 인덱스를 찾기\n",
        "sneaker_index = np.where(val_target == 7)[0][0]\n",
        "\n",
        "# 검증 그림 출력 (변경 코드)\n",
        "plt.imshow(val_scaled[sneaker_index].reshape(28, 28), cmap='gray_r')\n",
        "plt.show()\n",
        "\n",
        "preds = model.predict(val_scaled[sneaker_index:sneaker_index+1])\n",
        "print(preds)\n",
        "plt.bar(range(1, 11), preds[0])\n",
        "plt.xlabel('class')\n",
        "plt.ylabel('prob.')\n",
        "plt.show()\n"
      ],
      "metadata": {
        "colab": {
          "base_uri": "https://localhost:8080/",
          "height": 1000
        },
        "id": "i1xDGha9SmUf",
        "outputId": "942364c5-950a-4304-ac8e-bdc2e3072f6f"
      },
      "execution_count": 5,
      "outputs": [
        {
          "output_type": "stream",
          "name": "stdout",
          "text": [
            "Epoch 1/20\n",
            "1500/1500 [==============================] - 51s 33ms/step - loss: 0.4743 - accuracy: 0.8335 - val_loss: 0.3252 - val_accuracy: 0.8819\n",
            "Epoch 2/20\n",
            "1500/1500 [==============================] - 41s 27ms/step - loss: 0.3017 - accuracy: 0.8923 - val_loss: 0.2683 - val_accuracy: 0.8986\n",
            "Epoch 3/20\n",
            "1500/1500 [==============================] - 42s 28ms/step - loss: 0.2540 - accuracy: 0.9077 - val_loss: 0.2580 - val_accuracy: 0.9047\n",
            "Epoch 4/20\n",
            "1500/1500 [==============================] - 44s 29ms/step - loss: 0.2210 - accuracy: 0.9192 - val_loss: 0.2461 - val_accuracy: 0.9114\n",
            "Epoch 5/20\n",
            "1500/1500 [==============================] - 40s 27ms/step - loss: 0.1942 - accuracy: 0.9278 - val_loss: 0.2439 - val_accuracy: 0.9116\n",
            "Epoch 6/20\n",
            "1500/1500 [==============================] - 40s 27ms/step - loss: 0.1690 - accuracy: 0.9376 - val_loss: 0.2424 - val_accuracy: 0.9139\n",
            "Epoch 7/20\n",
            "1500/1500 [==============================] - 38s 25ms/step - loss: 0.1490 - accuracy: 0.9444 - val_loss: 0.2681 - val_accuracy: 0.9147\n",
            "Epoch 8/20\n",
            "1500/1500 [==============================] - 44s 30ms/step - loss: 0.1306 - accuracy: 0.9520 - val_loss: 0.2648 - val_accuracy: 0.9170\n",
            "Epoch 9/20\n",
            "1500/1500 [==============================] - 41s 27ms/step - loss: 0.1177 - accuracy: 0.9560 - val_loss: 0.2975 - val_accuracy: 0.9146\n",
            "Epoch 10/20\n",
            "1500/1500 [==============================] - 40s 27ms/step - loss: 0.1020 - accuracy: 0.9621 - val_loss: 0.2865 - val_accuracy: 0.9151\n",
            "Epoch 11/20\n",
            "1500/1500 [==============================] - 41s 27ms/step - loss: 0.0891 - accuracy: 0.9683 - val_loss: 0.3129 - val_accuracy: 0.9174\n",
            "Epoch 12/20\n",
            "1500/1500 [==============================] - 42s 28ms/step - loss: 0.0778 - accuracy: 0.9706 - val_loss: 0.3547 - val_accuracy: 0.9132\n",
            "Epoch 13/20\n",
            "1500/1500 [==============================] - 39s 26ms/step - loss: 0.0712 - accuracy: 0.9743 - val_loss: 0.3701 - val_accuracy: 0.9201\n",
            "Epoch 14/20\n",
            "1500/1500 [==============================] - 39s 26ms/step - loss: 0.0654 - accuracy: 0.9758 - val_loss: 0.4162 - val_accuracy: 0.9148\n",
            "Epoch 15/20\n",
            "1500/1500 [==============================] - 40s 27ms/step - loss: 0.0610 - accuracy: 0.9771 - val_loss: 0.3777 - val_accuracy: 0.9183\n",
            "Epoch 16/20\n",
            "1500/1500 [==============================] - 45s 30ms/step - loss: 0.0536 - accuracy: 0.9807 - val_loss: 0.4206 - val_accuracy: 0.9152\n",
            "Epoch 17/20\n",
            "1500/1500 [==============================] - 39s 26ms/step - loss: 0.0495 - accuracy: 0.9823 - val_loss: 0.4503 - val_accuracy: 0.9142\n",
            "Epoch 18/20\n",
            "1500/1500 [==============================] - 42s 28ms/step - loss: 0.0459 - accuracy: 0.9831 - val_loss: 0.4317 - val_accuracy: 0.9178\n",
            "Epoch 19/20\n",
            "1500/1500 [==============================] - 40s 26ms/step - loss: 0.0417 - accuracy: 0.9852 - val_loss: 0.4622 - val_accuracy: 0.9143\n",
            "Epoch 20/20\n",
            "1500/1500 [==============================] - 43s 28ms/step - loss: 0.0418 - accuracy: 0.9847 - val_loss: 0.4998 - val_accuracy: 0.9187\n",
            "375/375 [==============================] - 4s 12ms/step - loss: 0.4998 - accuracy: 0.9187\n"
          ]
        },
        {
          "output_type": "display_data",
          "data": {
            "text/plain": [
              "<Figure size 640x480 with 1 Axes>"
            ],
            "image/png": "[encoded data removed]"
          },
          "metadata": {}
        },
        {
          "output_type": "stream",
          "name": "stdout",
          "text": [
            "1/1 [==============================] - 0s 140ms/step\n",
            "[[2.4561426e-26 6.0028618e-30 4.3387665e-23 1.2213307e-20 4.7896188e-25\n",
            "  2.6380442e-18 2.6694528e-28 1.0000000e+00 3.2817584e-26 3.7962687e-15]]\n"
          ]
        },
        {
          "output_type": "display_data",
          "data": {
            "text/plain": [
              "<Figure size 640x480 with 1 Axes>"
            ],
            "image/png": "[encoded data removed]"
          },
          "metadata": {}
        }
      ]
    },
    {
      "cell_type": "code",
      "source": [],
      "metadata": {
        "id": "I3xDbpzlYGqd"
      },
      "execution_count": null,
      "outputs": []
    }
  ]
}